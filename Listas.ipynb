{
  "nbformat": 4,
  "nbformat_minor": 0,
  "metadata": {
    "colab": {
      "provenance": [],
      "authorship_tag": "ABX9TyORJd8mQV9e1reo4r/oLgXq",
      "include_colab_link": true
    },
    "kernelspec": {
      "name": "python3",
      "display_name": "Python 3"
    },
    "language_info": {
      "name": "python"
    }
  },
  "cells": [
    {
      "cell_type": "markdown",
      "metadata": {
        "id": "view-in-github",
        "colab_type": "text"
      },
      "source": [
        "<a href=\"https://colab.research.google.com/github/Gustahx/Program---Python/blob/main/Listas.ipynb\" target=\"_parent\"><img src=\"https://colab.research.google.com/assets/colab-badge.svg\" alt=\"Open In Colab\"/></a>"
      ]
    },
    {
      "cell_type": "code",
      "execution_count": null,
      "metadata": {
        "id": "TbQVL5tUsW8N"
      },
      "outputs": [],
      "source": [
        "nome = \"Gustavo\"\n",
        "print(nome)"
      ]
    },
    {
      "cell_type": "code",
      "source": [
        "nota1 = 8\n",
        "nota2  = 5\n",
        "media = (nota1 + nota2) / 2\n",
        "print(media)"
      ],
      "metadata": {
        "id": "qbYPpZK3sjHm"
      },
      "execution_count": null,
      "outputs": []
    },
    {
      "cell_type": "code",
      "source": [
        "nota1 = float(input(\"Digite a nota 1: \"))\n",
        "nota2  = float(input(\"Digite a nota 2: \"))\n",
        "media = (nota1 + nota2) / 2\n",
        "print(media)"
      ],
      "metadata": {
        "id": "OLTG0SlntEVV"
      },
      "execution_count": null,
      "outputs": []
    },
    {
      "cell_type": "markdown",
      "source": [
        "*LISTAS*"
      ],
      "metadata": {
        "id": "wMLEy7w1ttxO"
      }
    },
    {
      "cell_type": "code",
      "source": [
        "frutas = ['maça', 'laranja', 'uva']\n",
        "numeros = [3, 5, 6, 2, 7]\n",
        "mista = [\"hello\", 11 , False, 99.999]\n",
        "\n",
        "\n",
        "print(frutas)\n",
        "print(numeros)\n",
        "print(mista)"
      ],
      "metadata": {
        "id": "TYY8_LyCtwkW"
      },
      "execution_count": null,
      "outputs": []
    },
    {
      "cell_type": "code",
      "source": [
        "#Acessar elementos\n",
        "\n",
        "lista = [5, 8, 9, 17, 1, 3]\n",
        "print(lista[4])"
      ],
      "metadata": {
        "id": "by4bHDmkvI5t"
      },
      "execution_count": null,
      "outputs": []
    },
    {
      "cell_type": "code",
      "source": [
        "#Modificar elementos da Lista\n",
        "\n",
        "lista[2] = 250\n",
        "\n",
        "print(lista)"
      ],
      "metadata": {
        "id": "xQNh_x4XwAKy"
      },
      "execution_count": null,
      "outputs": []
    },
    {
      "cell_type": "code",
      "source": [
        "# Adicionar Elementos\n",
        "lista = [1,2]\n",
        "\n",
        "#append() adiciona um elemento no final da lista\n",
        "lista.append(3)\n",
        "print(lista)\n",
        "\n",
        "#inserir em uma posição específica\n",
        "lista.insert(1, 999)\n",
        "print(lista)"
      ],
      "metadata": {
        "id": "TQBgWtC9w82I"
      },
      "execution_count": null,
      "outputs": []
    },
    {
      "cell_type": "code",
      "source": [
        "#Remover elementos\n",
        "names = [\"Andrew\",\"July\", \"Joseph\", \"Luke\" ]\n",
        "\n",
        "#pelo valor\n",
        "names.remove(\"Joseph\")\n",
        "print(names)\n",
        "#pelo indice\n",
        "names.pop(0)\n",
        "print(names)\n",
        "#Pelo ultimo valor\n",
        "names.pop()\n",
        "print(names)"
      ],
      "metadata": {
        "id": "-zMC5Q9FyQ9Y"
      },
      "execution_count": null,
      "outputs": []
    },
    {
      "cell_type": "code",
      "source": [
        "#Fatiamento\n",
        "lista = [0, 1, 2, 3, 4, 5, 6, 7, 8, 9]\n",
        "\n",
        "# Sintaxe: lista[inicio:fim:passo]\n",
        "print(lista[:5])\n",
        "print(lista[6:])\n",
        "print(lista[3:9])\n",
        "print(lista[::2])\n",
        "print(lista[::-1])"
      ],
      "metadata": {
        "id": "byG6fAClz5sj"
      },
      "execution_count": null,
      "outputs": []
    },
    {
      "cell_type": "code",
      "source": [
        "#Funções Uteis\n",
        "\n",
        "lista = [4, 7, 6, 11, 2, 0]\n",
        "\n",
        "#tamanho da lista\n",
        "print(len(lista))\n",
        "\n",
        "#Maior e Menor valor da lista\n",
        "print(max(lista))\n",
        "print(min(lista))\n",
        "\n",
        "#Soma dos elementos\n",
        "print(sum(lista))\n",
        "\n",
        "#Ordenaçao\n",
        "print(sorted(lista))\n",
        "print(lista)\n",
        "#alterar a ordenação da lista original\n",
        "lista.sort()\n",
        "print(lista)"
      ],
      "metadata": {
        "id": "MQF-la2X2RPk"
      },
      "execution_count": null,
      "outputs": []
    },
    {
      "cell_type": "code",
      "source": [
        "#Laços em Listas\n",
        "\n",
        "compras = [\"ovo\", \"manteiga\", \"café\", \"pão\", \"laranja\"]\n",
        "\n",
        "for item in compras:\n",
        "  print(item)\n",
        "\n",
        "for indice, item in enumerate(compras):\n",
        "  print(f'Produto {indice}: {item}')"
      ],
      "metadata": {
        "id": "L5LxaYyn5xWo"
      },
      "execution_count": null,
      "outputs": []
    },
    {
      "cell_type": "code",
      "source": [
        "#Filtrar elementos com FOR\n",
        "for item in compras:\n",
        "  if 'a' in item:\n",
        "    print(f'{item} contém a letra a')"
      ],
      "metadata": {
        "id": "unhcxJEi8NlH"
      },
      "execution_count": null,
      "outputs": []
    },
    {
      "cell_type": "markdown",
      "source": [
        "STRING\n",
        "\n",
        "\n",
        "*  String são listas de caracteres\n",
        "*  As funções utilizadas em listas, podem ser utilizadas para string\n",
        "\n"
      ],
      "metadata": {
        "id": "iLLq6h5h95rz"
      }
    },
    {
      "cell_type": "code",
      "source": [
        "#concatenação\n",
        "\n",
        "name = \"Gustavo\"\n",
        "lastname = \"Daniel\"\n",
        "print(name,lastname)\n",
        "print(name+lastname)\n",
        "print(f'{name}  {lastname}')"
      ],
      "metadata": {
        "id": "e-cHWGaS-J4K"
      },
      "execution_count": null,
      "outputs": []
    },
    {
      "cell_type": "code",
      "source": [
        "#acessar caracteres\n",
        "\n",
        "text = 'Python'\n",
        "print(text[0])\n",
        "print('--------------')\n",
        "\n",
        "for letra in text:\n",
        "  print(letra)"
      ],
      "metadata": {
        "id": "yd333JKc-1Tb"
      },
      "execution_count": null,
      "outputs": []
    },
    {
      "cell_type": "code",
      "source": [
        "#fatiamento de string (slicing)\n",
        "\n",
        "text = 'Estou Aprendendo Python '\n",
        "print(text[2:5])\n",
        "print(text[4:])\n",
        "print(text[::2])"
      ],
      "metadata": {
        "id": "-ktUgdK1_Y-U"
      },
      "execution_count": null,
      "outputs": []
    },
    {
      "cell_type": "code",
      "source": [
        "#Métodos comuns\n",
        "print(text.strip()) #remover espaços\n",
        "\n",
        "#converter em maiusculas e minusculas\n",
        "print(text.upper())\n",
        "print(text.lower())"
      ],
      "metadata": {
        "id": "c54Q7vWLAXOr"
      },
      "execution_count": null,
      "outputs": []
    }
  ]
}